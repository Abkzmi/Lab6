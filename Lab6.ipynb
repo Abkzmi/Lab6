{
 "cells": [
  {
   "cell_type": "code",
   "execution_count": 1,
   "metadata": {},
   "outputs": [
    {
     "name": "stdin",
     "output_type": "stream",
     "text": [
      "How many hours you work?  5\n",
      "What is your hourly wage?  30\n",
      "What percent of your income you pay in taxes?  10\n"
     ]
    },
    {
     "name": "stdout",
     "output_type": "stream",
     "text": [
      "Your gross pay is  150  and your net pay is  135.0\n"
     ]
    }
   ],
   "source": [
    "hours = int(input(\"How many hours you work? \"))\n",
    "wage = int(input(\"What is your hourly wage? \"))\n",
    "percent = int(input(\"What percent of your income you pay in taxes? \"))\n",
    "print('Your gross pay is ' , hours*wage ,' and your net pay is ' , hours*wage - (hours*wage*percent/100))"
   ]
  },
  {
   "cell_type": "code",
   "execution_count": null,
   "metadata": {},
   "outputs": [],
   "source": []
  }
 ],
 "metadata": {
  "kernelspec": {
   "display_name": "Python 3",
   "language": "python",
   "name": "python3"
  },
  "language_info": {
   "codemirror_mode": {
    "name": "ipython",
    "version": 3
   },
   "file_extension": ".py",
   "mimetype": "text/x-python",
   "name": "python",
   "nbconvert_exporter": "python",
   "pygments_lexer": "ipython3",
   "version": "3.8.3"
  }
 },
 "nbformat": 4,
 "nbformat_minor": 4
}
